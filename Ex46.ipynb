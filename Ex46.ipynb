{
  "nbformat": 4,
  "nbformat_minor": 0,
  "metadata": {
    "colab": {
      "provenance": [],
      "authorship_tag": "ABX9TyOBi0D/c2x0GW2zgbXCEZyA",
      "include_colab_link": true
    },
    "kernelspec": {
      "name": "python3",
      "display_name": "Python 3"
    },
    "language_info": {
      "name": "python"
    }
  },
  "cells": [
    {
      "cell_type": "markdown",
      "metadata": {
        "id": "view-in-github",
        "colab_type": "text"
      },
      "source": [
        "<a href=\"https://colab.research.google.com/github/nnh92/Ex46/blob/main/Ex46.ipynb\" target=\"_parent\"><img src=\"https://colab.research.google.com/assets/colab-badge.svg\" alt=\"Open In Colab\"/></a>"
      ]
    },
    {
      "cell_type": "code",
      "execution_count": 9,
      "metadata": {
        "colab": {
          "base_uri": "https://localhost:8080/"
        },
        "id": "RVK3I216tHXF",
        "outputId": "c9bfa924-6504-4381-a4ae-2e05ef0243b3"
      },
      "outputs": [
        {
          "output_type": "stream",
          "name": "stdout",
          "text": [
            "Phuong trinh can giai:1\n",
            "Nhap a, b: 4 6\n",
            "PT co nghiem x =  -1.5\n"
          ]
        }
      ],
      "source": [
        "i = int(input('Phuong trinh can giai:'))\n",
        "import math\n",
        "\n",
        "def PT_b1(a, b):\n",
        "  if a == 0:\n",
        "    if b == 0:\n",
        "      return print('PT vo so nghiem')\n",
        "    else:\n",
        "      return print('PT vo nghiem')\n",
        "  else:\n",
        "    x = -b/a\n",
        "  return print('PT co nghiem x = ',x)\n",
        "\n",
        "def PT_b2(a, b, c):\n",
        "  if a == 0:\n",
        "    PT_b1(b, c)\n",
        "  else:\n",
        "    delta = b*b - 4*a*c\n",
        "    if delta < 0:\n",
        "      return print('PT vo nghiem')\n",
        "    elif delta == 0:\n",
        "      return print('PT co nghiem kep x = ',-b/(2*a))\n",
        "    else:\n",
        "      x1 = (-b - math.sqrt(delta))/(2*a)\n",
        "      x2 = (-b + math.sqrt(delta))/(2*a)\n",
        "      return print('PT co 2 nghiem phan biet x1 = {}, x2 = {}'.format(x1, x2))\n",
        "\n",
        "\n",
        "a, b = map(int, input('Nhap a, b: ').split())\n",
        "PT_b1(a, b)\n",
        "\n",
        "\n",
        "\n"
      ]
    }
  ]
}